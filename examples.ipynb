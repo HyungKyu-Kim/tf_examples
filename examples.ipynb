{
 "cells": [
  {
   "cell_type": "markdown",
   "metadata": {},
   "source": [
    "# cosine similarity\n",
    "두 벡터 간의 유사도를 보여주는 cosine similaryty 계산"
   ]
  },
  {
   "cell_type": "code",
   "execution_count": 2,
   "metadata": {},
   "outputs": [
    {
     "name": "stdout",
     "output_type": "stream",
     "text": [
      "x shape: (2, 3)\ty shape: (2, 3)\n",
      "----------------------------------------------------\n",
      "numpy\tcosine_distance line1: 0.30173234099111934\n",
      "numpy\tcosine_distance line2: 0.22186975999013192\n",
      "numpy\tcosine similarity result: 0.7381989495093744\n",
      "----------------------------------------------------\n",
      "tf\tcosine similarity result: 0.7381990253925323\n"
     ]
    }
   ],
   "source": [
    "import tensorflow as tf\n",
    "import numpy as np\n",
    "import scipy\n",
    "\n",
    "x = np.array([[1.111123,2.3,3],[1,5,4]])\n",
    "y = np.array([[2,-1.111,6],[-2,323,4]])\n",
    "print(\"x shape: %s\\ty shape: %s\"% (x.shape, y.shape))\n",
    "\n",
    "cosine_distance_row0 = scipy.spatial.distance.cosine(x[0],y[0])\n",
    "cosine_distance_row1 = scipy.spatial.distance.cosine(x[1],y[1])\n",
    "\n",
    "print(\"----------------------------------------------------\")\n",
    "print(\"numpy\\tcosine_distance line1:\", cosine_distance_row0)\n",
    "print(\"numpy\\tcosine_distance line2:\", cosine_distance_row1)\n",
    "print(\"numpy\\tcosine similarity result:\", 1-(cosine_distance_row0 + cosine_distance_row1)/2) # average row0 and row1\n",
    "\n",
    "tf_input0 = tf.placeholder(tf.float32, shape=[None, x.shape[1]], name=\"input_placeholder_a\")\n",
    "tf_input1 = tf.placeholder(tf.float32, shape=[None, y.shape[1]], name=\"input_placeholder_b\")\n",
    "\n",
    "normalize_a = tf.nn.l2_normalize(tf_input0,axis=1)\n",
    "normalize_b = tf.nn.l2_normalize(tf_input1,axis=1)\n",
    "# cos_similarity=tf.reduce_sum(tf.multiply(normalize_a,normalize_b))\n",
    "cos_similarity = tf.losses.cosine_distance(normalize_a, normalize_b, axis=1)\n",
    "sess=tf.Session()\n",
    "cos_sim=sess.run(cos_similarity,feed_dict={tf_input0: x, tf_input1: y})\n",
    "print(\"----------------------------------------------------\")\n",
    "print(\"tf\\tcosine similarity result:\", 1 - cos_sim)"
   ]
  },
  {
   "cell_type": "code",
   "execution_count": null,
   "metadata": {},
   "outputs": [],
   "source": []
  }
 ],
 "metadata": {
  "kernelspec": {
   "display_name": "Python 3",
   "language": "python",
   "name": "python3"
  },
  "language_info": {
   "codemirror_mode": {
    "name": "ipython",
    "version": 3
   },
   "file_extension": ".py",
   "mimetype": "text/x-python",
   "name": "python",
   "nbconvert_exporter": "python",
   "pygments_lexer": "ipython3",
   "version": "3.6.6"
  }
 },
 "nbformat": 4,
 "nbformat_minor": 2
}
